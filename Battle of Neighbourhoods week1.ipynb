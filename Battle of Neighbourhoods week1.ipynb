{
 "cells": [
  {
   "cell_type": "markdown",
   "metadata": {},
   "source": [
    "# 1.Introduction Section :\n",
    "\n",
    "### Discussion of the business problem and the audience who would be interested in this project.\n",
    "\n",
    "### Description of the Problem and Background\n",
    "\n",
    "### Scenario:\n",
    "\n",
    "   I am a data scientist residing in Hyderabad, India. I currently live within walking distance to Junilee hills metro station and I enjoy many ammenities and venues in the area, such as various international cousine restaurants, cafes, food shops and entertainment. I have been offered a great opportunity to work for a leader firm in Manhattan, NY. I am very excited and I want to use this opportunity to practice my learnings in Coursera in order to answer relevant questions arisen. The key question is : How can I find a convenient and enjoyable place similar to mine now in India? Certainly, I can use available real estate apps and Google but the idea is to use and apply myself the learned tools during the course. In order to make a comparison and evaluation of the rental options in Manhattan NY, I must set some basis, therefore the apartment in Manhattan must meet the following demands:\n",
    "   * apartment must be 2 or 3 bedrooms\n",
    "   * desired location is near a metro station in the Manhattan area and within 1.0 mile (1.6 km) radius\n",
    "   * price of rent not exceed $7,000 per month\n",
    "   * top ammenities in the selected neighborhood shall be similar to current residence\n",
    "   * desirable to have venues such as coffee shops, restaurants Asian Thai, wine stores, gym and food shops\n",
    "   * as a reference, I have included a map of venues near current residence in India.\n",
    "   \n",
    "   \n",
    "### Business Problem:\n",
    "The challenge is to find a suitable apartment for rent in Manhattan NY that complies with the demands on location, price and venues. The data required to resolve this challenge is described in the following section 2, below.\n",
    "\n",
    "\n",
    "### Interested Audience\n",
    "I believe this is a relevant challenge with valid questions for anyone moving to other large city in US, EU or Asia. The same methodology can be applied in accordance to demands as applicable. This case is also applicable for anyone interested in exploring starting or locating a new business in any city. Lastly, it can also serve as a good practical exercise to develop Data Science skills.\n"
   ]
  },
  {
   "cell_type": "code",
   "execution_count": null,
   "metadata": {},
   "outputs": [],
   "source": [
    "# A description of the data and how it will be used to solve the problem. (15 marks)"
   ]
  },
  {
   "cell_type": "markdown",
   "metadata": {},
   "source": [
    "# 2. Data Section:\n",
    "\n",
    "### Description of the data and its sources that will be used to solve the problem\n",
    "\n",
    "### Description of the Data:\n",
    "\n",
    "The following data is required to answer the issues of the problem:\n",
    "\n",
    "* List of Boroughs and neighborhoods of Manhattan with their geodata (latitud and longitud)\n",
    "* List of Subway metro stations in Manhattan with their address location\n",
    "* List of apartments for rent in Manhattan area with their addresses and price\n",
    "* Preferably, a list of apartment for rent with additional information, such as price, address, area, # of beds, etc\n",
    "* Venues for each Manhattan neighborhood ( than can be clustered)\n",
    "* Venues for subway metro stations, as needed\n",
    "\n",
    "### How the data will be used to solve the problem\n",
    "\n",
    "The data will be used as follows:\n",
    "\n",
    "* Use Foursquare and geopy data to map top 10 venues for all Manhattan neighborhoods and clustered in groups ( as per Course LAB)\n",
    "* Use foursquare and geopy data to map the location of subway metro stations , separately and on top of the above clustered map in order to be able to identify the venues and ammenities near each metro station, or explore each subway location separately\n",
    "* Use Foursquare and geopy data to map the location of rental places, in some form, linked to the subway locations.\n",
    "* create a map that depicts, for instance, the average rental price per square ft, around a radious of 1.0 mile (1.6 km) around each subway station - or a similar metrics. I will be able to quickly point to the popups to know the relative price per subway area.\n",
    "* Addresses from rental locations will be converted to geodata( lat, long) using Geopy-distance and Nominatim.\n",
    "* Data will be searched in open data sources if available, from real estate sites if open to reading, libraries or other government agencies such as Metro New York MTA, etc.\n",
    "\n",
    "### The procesing of these DATA will allow to answer the key questions to make a decision:\n",
    "\n",
    "* what is the cost of rent (per square ft) around a mile radius from each subway metro station?\n",
    "* what is the area of Manhattan with best rental pricing that meets criteria established?\n",
    "* What is the distance from work place ( Park Ave and 53 rd St) and the tentative future home?\n",
    "* What are the venues of the two best places to live? How the prices compare?\n",
    "* How venues distribute among Manhattan neighborhoods and around metro stations?\n",
    "* Are there tradeoffs between size and price and location?\n",
    "* Any other interesting statistical data findings of the real estate and overall data.\n",
    "\n"
   ]
  },
  {
   "cell_type": "markdown",
   "metadata": {},
   "source": [
    "### Libraries that were imported were as follows:"
   ]
  },
  {
   "cell_type": "code",
   "execution_count": 1,
   "metadata": {},
   "outputs": [
    {
     "name": "stdout",
     "output_type": "stream",
     "text": [
      "Collecting package metadata (current_repodata.json): done\n",
      "Solving environment: done\n",
      "\n",
      "# All requested packages already installed.\n",
      "\n",
      "Collecting package metadata (current_repodata.json): done\n",
      "Solving environment: done\n",
      "\n",
      "# All requested packages already installed.\n",
      "\n",
      "Libraries imported.\n"
     ]
    }
   ],
   "source": [
    "import numpy as np # library to handle data in a vectorized manner\n",
    "\n",
    "import urllib.request \n",
    "from bs4 import BeautifulSoup\n",
    "\n",
    "import pandas as pd # library for data analsysis\n",
    "pd.set_option('display.max_columns', None)\n",
    "pd.set_option('display.max_rows', None)\n",
    "\n",
    "import json # library to handle JSON files\n",
    "\n",
    "!conda install -c conda-forge geopy --yes # uncomment this line if you haven't completed the Foursquare API lab\n",
    "from geopy.geocoders import Nominatim # convert an address into latitude and longitude values\n",
    "\n",
    "import requests # library to handle requests\n",
    "from pandas.io.json import json_normalize # tranform JSON file into a pandas dataframe\n",
    "\n",
    "# Matplotlib and associated plotting modules\n",
    "import matplotlib.cm as cm\n",
    "import matplotlib.colors as colors\n",
    "\n",
    "# import k-means from clustering stage\n",
    "from sklearn.cluster import KMeans\n",
    "\n",
    "!conda install -c conda-forge folium=0.5.0 --yes # uncomment this line if you haven't completed the Foursquare API lab\n",
    "import folium # map rendering library\n",
    "\n",
    "print('Libraries imported.')"
   ]
  },
  {
   "cell_type": "code",
   "execution_count": null,
   "metadata": {},
   "outputs": [],
   "source": []
  }
 ],
 "metadata": {
  "kernelspec": {
   "display_name": "Python 3",
   "language": "python",
   "name": "python3"
  },
  "language_info": {
   "codemirror_mode": {
    "name": "ipython",
    "version": 3
   },
   "file_extension": ".py",
   "mimetype": "text/x-python",
   "name": "python",
   "nbconvert_exporter": "python",
   "pygments_lexer": "ipython3",
   "version": "3.7.6"
  }
 },
 "nbformat": 4,
 "nbformat_minor": 4
}
